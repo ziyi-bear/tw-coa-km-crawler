{
 "cells": [
  {
   "cell_type": "code",
   "execution_count": 1,
   "metadata": {},
   "outputs": [],
   "source": [
    "# 引入函式庫\n",
    "import requests\n",
    "from bs4 import BeautifulSoup\n",
    "import json"
   ]
  },
  {
   "cell_type": "code",
   "execution_count": 2,
   "metadata": {},
   "outputs": [],
   "source": [
    "# 轉換URL並取得URL參數\n",
    "import urllib.parse as urlparse\n",
    "from urllib.parse import parse_qs"
   ]
  },
  {
   "cell_type": "code",
   "execution_count": 8,
   "metadata": {},
   "outputs": [],
   "source": [
    "knowledge_base_url_parm = dict()\n",
    "knowledge_base_url_parm['page']=14\n",
    "knowledge_base_url_parm['display_num']=70\n",
    "knowledge_base_url = 'https://kmweb.coa.gov.tw/knowledgebase.php'\n",
    "response = requests.post(knowledge_base_url, data = knowledge_base_url_parm)\n",
    "pageSoup = BeautifulSoup(response.content, 'lxml')\n",
    "titleList = pageSoup.select('a.title')"
   ]
  },
  {
   "cell_type": "code",
   "execution_count": 9,
   "metadata": {},
   "outputs": [
    {
     "data": {
      "text/plain": [
       "[<a class=\"title\" href=\"knowledgebase.php?func=&amp;type=0&amp;id=401202\">鴕鳥成長期行為觀察</a>,\n",
       " <a class=\"title\" href=\"knowledgebase.php?func=&amp;type=0&amp;id=401201\">產蛋期代謝能餵飼量對籠飼褐殼蛋雞產蛋性能</a>,\n",
       " <a class=\"title\" href=\"knowledgebase.php?func=&amp;type=0&amp;id=401200\">Effects of dietary crude protein and metabolizable energy levels on the growth performance of White Roman Geese between 4 and 8 weeks of age</a>,\n",
       " <a class=\"title\" href=\"knowledgebase.php?func=&amp;type=0&amp;id=401199\">甘藷等外品青貯料作為荷蘭泌乳牛飼糧之可行性評估</a>,\n",
       " <a class=\"title\" href=\"knowledgebase.php?func=&amp;type=0&amp;id=401198\">芻料高粱墾丁一號之育成</a>,\n",
       " <a class=\"title\" href=\"knowledgebase.php?func=&amp;type=0&amp;id=401197\">不同調製方式國產苜蓿之山羊適口性比較</a>,\n",
       " <a class=\"title\" href=\"knowledgebase.php?func=&amp;type=0&amp;id=401196\">不同胎次荷蘭母牛初乳品質與母仔牛週齡體重及血液參數值變化之研究</a>,\n",
       " <a class=\"title\" href=\"knowledgebase.php?func=&amp;type=0&amp;id=401195\">狼尾草台畜草七號之育成</a>,\n",
       " <a class=\"title\" href=\"knowledgebase.php?func=&amp;type=0&amp;id=401193\">狼尾草台畜草8 號對泌乳山羊飼養價值的評估</a>,\n",
       " <a class=\"title\" href=\"knowledgebase.php?func=&amp;type=0&amp;id=401191\">湳雅社區療育庭園介紹</a>,\n",
       " <a class=\"title\" href=\"knowledgebase.php?func=&amp;type=0&amp;id=401190\">尊重在地產業發展意願的原鄉部落產業輔導</a>,\n",
       " <a class=\"title\" href=\"knowledgebase.php?func=&amp;type=0&amp;id=401189\">設施蔬菜栽培散色光利用</a>,\n",
       " <a class=\"title\" href=\"knowledgebase.php?func=&amp;type=0&amp;id=401183\">不同比例稻殼及草炭墊料對白肉雞生長性狀、接觸性皮膚炎及欄舍氨氣濃度之影響</a>,\n",
       " <a class=\"title\" href=\"knowledgebase.php?func=&amp;type=0&amp;id=401178\">終身學習充電站109 年度農民學院課程大公開</a>,\n",
       " <a class=\"title\" href=\"knowledgebase.php?func=&amp;type=0&amp;id=401165\">台中區農情月刊247期_紅龍果加工之應用 - 粉圓加工</a>,\n",
       " <a class=\"title\" href=\"knowledgebase.php?func=&amp;type=0&amp;id=401161\">稀釋液中甘油與二甲基亞碸比例對玻璃化冷凍解凍後山羊精子品質之影響</a>,\n",
       " <a class=\"title\" href=\"knowledgebase.php?func=&amp;type=0&amp;id=401160\">李紅曦場長參加彰化縣各界慶祝農民節活動</a>,\n",
       " <a class=\"title\" href=\"knowledgebase.php?func=&amp;type=0&amp;id=401155\">本場環境教育之大家來種樹</a>,\n",
       " <a class=\"title\" href=\"knowledgebase.php?func=&amp;type=0&amp;id=401154\">尼羅草台畜草3 號之育成</a>,\n",
       " <a class=\"title\" href=\"knowledgebase.php?func=&amp;type=0&amp;id=401153\">本場召開芋苗種植機田間示範觀摩會</a>,\n",
       " <a class=\"title\" href=\"knowledgebase.php?func=&amp;type=0&amp;id=401149\">十字花科蔬菜黑斑病發生狀態及管理策略</a>,\n",
       " <a class=\"title\" href=\"knowledgebase.php?func=&amp;type=0&amp;id=401065\">烏骨雞誘導多能性幹細胞株體外分化能力之探討</a>,\n",
       " <a class=\"title\" href=\"knowledgebase.php?func=&amp;type=0&amp;id=401036\">商用土番鴨、北京鴨和紅面番鴨胸肉理化分析</a>,\n",
       " <a class=\"title\" href=\"knowledgebase.php?func=&amp;type=0&amp;id=400996\">不同小型豬血液生化值與品種間之差異</a>,\n",
       " <a class=\"title\" href=\"knowledgebase.php?func=&amp;type=0&amp;id=400581\">福鼠迎春～臺中場年終暨研發成果記者會展現堅實研發能量</a>,\n",
       " <a class=\"title\" href=\"knowledgebase.php?func=&amp;type=0&amp;id=400580\">酸甘甜好滋味進運國際</a>,\n",
       " <a class=\"title\" href=\"knowledgebase.php?func=&amp;type=0&amp;id=400579\">農地野鼠的剋星—黑翅鳶及鳳頭蒼鷹</a>,\n",
       " <a class=\"title\" href=\"knowledgebase.php?func=&amp;type=0&amp;id=400578\">栗子南瓜的年度慶典～109 年度美栗南瓜全國評鑑競賽</a>,\n",
       " <a class=\"title\" href=\"knowledgebase.php?func=&amp;type=0&amp;id=400577\">台中區農情月刊246期_厚植國內番茄產業競爭力～全紅大果番茄品種比賽</a>,\n",
       " <a class=\"title\" href=\"knowledgebase.php?func=&amp;type=0&amp;id=400576\">投入油茶與藍莓產業的江嘉維</a>,\n",
       " <a class=\"title\" href=\"knowledgebase.php?func=&amp;type=0&amp;id=400575\">本場陪同農委會出席中興大學農產品驗證中心揭牌儀式</a>,\n",
       " <a class=\"title\" href=\"knowledgebase.php?func=&amp;type=0&amp;id=400574\">以色列蔬果採後處理資材大解密</a>,\n",
       " <a class=\"title\" href=\"knowledgebase.php?func=&amp;type=0&amp;id=400573\">仁愛鄉松林部落「伊娜谷香糯米」的栽培現況</a>,\n",
       " <a class=\"title\" href=\"knowledgebase.php?func=&amp;type=0&amp;id=400571\">108年全國優良農業產銷班-南投縣草屯鎮特用作物產銷班第2班</a>,\n",
       " <a class=\"title\" href=\"knowledgebase.php?func=&amp;type=0&amp;id=400570\">恭賀本場及同仁榮獲臺灣農學會農業事業團體獎</a>,\n",
       " <a class=\"title\" href=\"knowledgebase.php?func=&amp;type=0&amp;id=400569\">青農好給力 ! 第 5 屆百大青農「鬥陣作農贏未來」簽約活動</a>,\n",
       " <a class=\"title\" href=\"knowledgebase.php?func=&amp;type=0&amp;id=400568\">因應氣候變遷之荔枝開花調節技術</a>,\n",
       " <a class=\"title\" href=\"knowledgebase.php?func=&amp;type=0&amp;id=400567\">本場辦理葡萄農藥減量綜合管理及晚腐病綜合防治說明會</a>,\n",
       " <a class=\"title\" href=\"knowledgebase.php?func=&amp;type=0&amp;id=400566\">本場與醫藥工業技術發展中心簽訂合作意向書</a>,\n",
       " <a class=\"title\" href=\"knowledgebase.php?func=&amp;type=0&amp;id=400565\">本場與臺中市政府簽署青年農民培訓合作備忘錄</a>,\n",
       " <a class=\"title\" href=\"knowledgebase.php?func=&amp;type=0&amp;id=400564\">本場召開芋苗種植機田間示範觀摩會</a>,\n",
       " <a class=\"title\" href=\"knowledgebase.php?func=&amp;type=0&amp;id=400563\">以色列應用酵母菌於柑桔採後病害防治技術</a>,\n",
       " <a class=\"title\" href=\"knowledgebase.php?func=&amp;type=0&amp;id=400562\">109 年優良水稻推廣品種公告及新增列品種台農 81 號及台南秈 18 號簡介</a>,\n",
       " <a class=\"title\" href=\"knowledgebase.php?func=&amp;type=0&amp;id=400561\">108 年全國優良農業產銷班-臺中市大安區蔬菜產銷班第8 班</a>,\n",
       " <a class=\"title\" href=\"knowledgebase.php?func=&amp;type=0&amp;id=400560\">農業循環示範園區建置</a>,\n",
       " <a class=\"title\" href=\"knowledgebase.php?func=&amp;type=0&amp;id=400559\">魚茭共生友善環境經營模式示範及效益評估</a>,\n",
       " <a class=\"title\" href=\"knowledgebase.php?func=&amp;type=0&amp;id=400558\">羽毛副產物循環再利用</a>,\n",
       " <a class=\"title\" href=\"knowledgebase.php?func=&amp;type=0&amp;id=400557\">菇蕈生產剩餘物質利用再加值</a>,\n",
       " <a class=\"title\" href=\"knowledgebase.php?func=&amp;type=0&amp;id=400556\">菇蕈生產剩餘物質多元循環利用</a>,\n",
       " <a class=\"title\" href=\"knowledgebase.php?func=&amp;type=0&amp;id=400555\">談循環農業</a>,\n",
       " <a class=\"title\" href=\"knowledgebase.php?func=&amp;type=0&amp;id=400554\">專訊107期目錄</a>,\n",
       " <a class=\"title\" href=\"knowledgebase.php?func=&amp;type=0&amp;id=400553\">應用鐵粉披衣稻種的水稻湛水直播之研究</a>,\n",
       " <a class=\"title\" href=\"knowledgebase.php?func=&amp;type=0&amp;id=400552\">應用分子標誌分析番茄種原遺傳歧異度</a>,\n",
       " <a class=\"title\" href=\"knowledgebase.php?func=&amp;type=0&amp;id=400551\">整蔓方式對於露天栽培西洋南瓜果實品質及產量之評估</a>,\n",
       " <a class=\"title\" href=\"knowledgebase.php?func=&amp;type=0&amp;id=400550\">農民學院臺中區農業訓練中心學員從農風險評估之研究</a>,\n",
       " <a class=\"title\" href=\"knowledgebase.php?func=&amp;type=0&amp;id=400549\">葉薹兩用芥藍品種‘台中2號’育成</a>,\n",
       " <a class=\"title\" href=\"knowledgebase.php?func=&amp;type=0&amp;id=400548\">以層級分析法建構遴選農村社區推動園藝療育指標</a>,\n",
       " <a class=\"title\" href=\"knowledgebase.php?func=&amp;type=0&amp;id=400547\">行政院農業委員會臺中區農業改良場研究彙報(第142 期)</a>,\n",
       " <a class=\"title\" href=\"knowledgebase.php?func=&amp;type=0&amp;id=400546\">桃園區農情月刊第 150 期-----------本場新埔工作站辦公大樓落成啟用典禮</a>,\n",
       " <a class=\"title\" href=\"knowledgebase.php?func=&amp;type=0&amp;id=400545\">桃園區農情月刊第 150 期-----------行政院農業委員會農業記者團參訪桃園縣新屋鄉花卉產銷班-2</a>,\n",
       " <a class=\"title\" href=\"knowledgebase.php?func=&amp;type=0&amp;id=400544\">桃園區農情月刊第 150 期-----------行政院農業委員會農業記者團參訪桃園縣新屋鄉花卉產銷班-1</a>,\n",
       " <a class=\"title\" href=\"knowledgebase.php?func=&amp;type=0&amp;id=400543\">桃園區農情月刊第 150 期-----------「100年度績優吉園圃產銷班及輔導單位」表揚活動及本場轄區獲獎快報-2</a>,\n",
       " <a class=\"title\" href=\"knowledgebase.php?func=&amp;type=0&amp;id=400542\">桃園區農情月刊第 150 期-----------「100年度績優吉園圃產銷班及輔導單位」表揚活動及本場轄區獲獎快報-1</a>,\n",
       " <a class=\"title\" href=\"knowledgebase.php?func=&amp;type=0&amp;id=400541\">桃園區農情月刊第 150 期-----------保障國人吃的安全，農委會積極推動作物健康管理</a>,\n",
       " <a class=\"title\" href=\"knowledgebase.php?func=&amp;type=0&amp;id=400532\">收購荔枝椿象卵片效果顯著 全民參與防治動起來</a>,\n",
       " <a class=\"title\" href=\"knowledgebase.php?func=&amp;type=0&amp;id=400527\">108年本場辦理食農教育宣導活動成果</a>,\n",
       " <a class=\"title\" href=\"knowledgebase.php?func=&amp;type=0&amp;id=400526\">智慧茶產業訓練班圓滿落幕</a>,\n",
       " <a class=\"title\" href=\"knowledgebase.php?func=&amp;type=0&amp;id=400525\">本場辦理「照顧農民─農民福利與年金制度座談會」協助解決農友問題</a>,\n",
       " <a class=\"title\" href=\"knowledgebase.php?func=&amp;type=0&amp;id=400524\">108年10月公告增修藥劑使用方法於山茶科作物簡訊</a>,\n",
       " <a class=\"title\" href=\"knowledgebase.php?func=&amp;type=0&amp;id=400523\">推動臺茶國際行銷新動力 本場首開茶業國際專班</a>]"
      ]
     },
     "execution_count": 9,
     "metadata": {},
     "output_type": "execute_result"
    }
   ],
   "source": [
    "titleList"
   ]
  },
  {
   "cell_type": "code",
   "execution_count": 10,
   "metadata": {},
   "outputs": [
    {
     "data": {
      "text/plain": [
       "[<a class=\"title\" href=\"knowledgebase.php?func=&amp;type=0&amp;id=401202\">鴕鳥成長期行為觀察</a>,\n",
       " <a class=\"title\" href=\"knowledgebase.php?func=&amp;type=0&amp;id=401201\">產蛋期代謝能餵飼量對籠飼褐殼蛋雞產蛋性能</a>,\n",
       " <a class=\"title\" href=\"knowledgebase.php?func=&amp;type=0&amp;id=401200\">Effects of dietary crude protein and metabolizable energy levels on the growth performance of White Roman Geese between 4 and 8 weeks of age</a>,\n",
       " <a class=\"title\" href=\"knowledgebase.php?func=&amp;type=0&amp;id=401199\">甘藷等外品青貯料作為荷蘭泌乳牛飼糧之可行性評估</a>,\n",
       " <a class=\"title\" href=\"knowledgebase.php?func=&amp;type=0&amp;id=401198\">芻料高粱墾丁一號之育成</a>,\n",
       " <a class=\"title\" href=\"knowledgebase.php?func=&amp;type=0&amp;id=401197\">不同調製方式國產苜蓿之山羊適口性比較</a>,\n",
       " <a class=\"title\" href=\"knowledgebase.php?func=&amp;type=0&amp;id=401196\">不同胎次荷蘭母牛初乳品質與母仔牛週齡體重及血液參數值變化之研究</a>,\n",
       " <a class=\"title\" href=\"knowledgebase.php?func=&amp;type=0&amp;id=401195\">狼尾草台畜草七號之育成</a>,\n",
       " <a class=\"title\" href=\"knowledgebase.php?func=&amp;type=0&amp;id=401193\">狼尾草台畜草8 號對泌乳山羊飼養價值的評估</a>,\n",
       " <a class=\"title\" href=\"knowledgebase.php?func=&amp;type=0&amp;id=401191\">湳雅社區療育庭園介紹</a>,\n",
       " <a class=\"title\" href=\"knowledgebase.php?func=&amp;type=0&amp;id=401190\">尊重在地產業發展意願的原鄉部落產業輔導</a>,\n",
       " <a class=\"title\" href=\"knowledgebase.php?func=&amp;type=0&amp;id=401189\">設施蔬菜栽培散色光利用</a>,\n",
       " <a class=\"title\" href=\"knowledgebase.php?func=&amp;type=0&amp;id=401183\">不同比例稻殼及草炭墊料對白肉雞生長性狀、接觸性皮膚炎及欄舍氨氣濃度之影響</a>,\n",
       " <a class=\"title\" href=\"knowledgebase.php?func=&amp;type=0&amp;id=401178\">終身學習充電站109 年度農民學院課程大公開</a>,\n",
       " <a class=\"title\" href=\"knowledgebase.php?func=&amp;type=0&amp;id=401165\">台中區農情月刊247期_紅龍果加工之應用 - 粉圓加工</a>,\n",
       " <a class=\"title\" href=\"knowledgebase.php?func=&amp;type=0&amp;id=401161\">稀釋液中甘油與二甲基亞碸比例對玻璃化冷凍解凍後山羊精子品質之影響</a>,\n",
       " <a class=\"title\" href=\"knowledgebase.php?func=&amp;type=0&amp;id=401160\">李紅曦場長參加彰化縣各界慶祝農民節活動</a>,\n",
       " <a class=\"title\" href=\"knowledgebase.php?func=&amp;type=0&amp;id=401155\">本場環境教育之大家來種樹</a>,\n",
       " <a class=\"title\" href=\"knowledgebase.php?func=&amp;type=0&amp;id=401154\">尼羅草台畜草3 號之育成</a>,\n",
       " <a class=\"title\" href=\"knowledgebase.php?func=&amp;type=0&amp;id=401153\">本場召開芋苗種植機田間示範觀摩會</a>,\n",
       " <a class=\"title\" href=\"knowledgebase.php?func=&amp;type=0&amp;id=401149\">十字花科蔬菜黑斑病發生狀態及管理策略</a>,\n",
       " <a class=\"title\" href=\"knowledgebase.php?func=&amp;type=0&amp;id=401065\">烏骨雞誘導多能性幹細胞株體外分化能力之探討</a>,\n",
       " <a class=\"title\" href=\"knowledgebase.php?func=&amp;type=0&amp;id=401036\">商用土番鴨、北京鴨和紅面番鴨胸肉理化分析</a>,\n",
       " <a class=\"title\" href=\"knowledgebase.php?func=&amp;type=0&amp;id=400996\">不同小型豬血液生化值與品種間之差異</a>,\n",
       " <a class=\"title\" href=\"knowledgebase.php?func=&amp;type=0&amp;id=400581\">福鼠迎春～臺中場年終暨研發成果記者會展現堅實研發能量</a>,\n",
       " <a class=\"title\" href=\"knowledgebase.php?func=&amp;type=0&amp;id=400580\">酸甘甜好滋味進運國際</a>,\n",
       " <a class=\"title\" href=\"knowledgebase.php?func=&amp;type=0&amp;id=400579\">農地野鼠的剋星—黑翅鳶及鳳頭蒼鷹</a>,\n",
       " <a class=\"title\" href=\"knowledgebase.php?func=&amp;type=0&amp;id=400578\">栗子南瓜的年度慶典～109 年度美栗南瓜全國評鑑競賽</a>,\n",
       " <a class=\"title\" href=\"knowledgebase.php?func=&amp;type=0&amp;id=400577\">台中區農情月刊246期_厚植國內番茄產業競爭力～全紅大果番茄品種比賽</a>,\n",
       " <a class=\"title\" href=\"knowledgebase.php?func=&amp;type=0&amp;id=400576\">投入油茶與藍莓產業的江嘉維</a>,\n",
       " <a class=\"title\" href=\"knowledgebase.php?func=&amp;type=0&amp;id=400575\">本場陪同農委會出席中興大學農產品驗證中心揭牌儀式</a>,\n",
       " <a class=\"title\" href=\"knowledgebase.php?func=&amp;type=0&amp;id=400574\">以色列蔬果採後處理資材大解密</a>,\n",
       " <a class=\"title\" href=\"knowledgebase.php?func=&amp;type=0&amp;id=400573\">仁愛鄉松林部落「伊娜谷香糯米」的栽培現況</a>,\n",
       " <a class=\"title\" href=\"knowledgebase.php?func=&amp;type=0&amp;id=400571\">108年全國優良農業產銷班-南投縣草屯鎮特用作物產銷班第2班</a>,\n",
       " <a class=\"title\" href=\"knowledgebase.php?func=&amp;type=0&amp;id=400570\">恭賀本場及同仁榮獲臺灣農學會農業事業團體獎</a>,\n",
       " <a class=\"title\" href=\"knowledgebase.php?func=&amp;type=0&amp;id=400569\">青農好給力 ! 第 5 屆百大青農「鬥陣作農贏未來」簽約活動</a>,\n",
       " <a class=\"title\" href=\"knowledgebase.php?func=&amp;type=0&amp;id=400568\">因應氣候變遷之荔枝開花調節技術</a>,\n",
       " <a class=\"title\" href=\"knowledgebase.php?func=&amp;type=0&amp;id=400567\">本場辦理葡萄農藥減量綜合管理及晚腐病綜合防治說明會</a>,\n",
       " <a class=\"title\" href=\"knowledgebase.php?func=&amp;type=0&amp;id=400566\">本場與醫藥工業技術發展中心簽訂合作意向書</a>,\n",
       " <a class=\"title\" href=\"knowledgebase.php?func=&amp;type=0&amp;id=400565\">本場與臺中市政府簽署青年農民培訓合作備忘錄</a>,\n",
       " <a class=\"title\" href=\"knowledgebase.php?func=&amp;type=0&amp;id=400564\">本場召開芋苗種植機田間示範觀摩會</a>,\n",
       " <a class=\"title\" href=\"knowledgebase.php?func=&amp;type=0&amp;id=400563\">以色列應用酵母菌於柑桔採後病害防治技術</a>,\n",
       " <a class=\"title\" href=\"knowledgebase.php?func=&amp;type=0&amp;id=400562\">109 年優良水稻推廣品種公告及新增列品種台農 81 號及台南秈 18 號簡介</a>,\n",
       " <a class=\"title\" href=\"knowledgebase.php?func=&amp;type=0&amp;id=400561\">108 年全國優良農業產銷班-臺中市大安區蔬菜產銷班第8 班</a>,\n",
       " <a class=\"title\" href=\"knowledgebase.php?func=&amp;type=0&amp;id=400560\">農業循環示範園區建置</a>,\n",
       " <a class=\"title\" href=\"knowledgebase.php?func=&amp;type=0&amp;id=400559\">魚茭共生友善環境經營模式示範及效益評估</a>,\n",
       " <a class=\"title\" href=\"knowledgebase.php?func=&amp;type=0&amp;id=400558\">羽毛副產物循環再利用</a>,\n",
       " <a class=\"title\" href=\"knowledgebase.php?func=&amp;type=0&amp;id=400557\">菇蕈生產剩餘物質利用再加值</a>,\n",
       " <a class=\"title\" href=\"knowledgebase.php?func=&amp;type=0&amp;id=400556\">菇蕈生產剩餘物質多元循環利用</a>,\n",
       " <a class=\"title\" href=\"knowledgebase.php?func=&amp;type=0&amp;id=400555\">談循環農業</a>,\n",
       " <a class=\"title\" href=\"knowledgebase.php?func=&amp;type=0&amp;id=400554\">專訊107期目錄</a>,\n",
       " <a class=\"title\" href=\"knowledgebase.php?func=&amp;type=0&amp;id=400553\">應用鐵粉披衣稻種的水稻湛水直播之研究</a>,\n",
       " <a class=\"title\" href=\"knowledgebase.php?func=&amp;type=0&amp;id=400552\">應用分子標誌分析番茄種原遺傳歧異度</a>,\n",
       " <a class=\"title\" href=\"knowledgebase.php?func=&amp;type=0&amp;id=400551\">整蔓方式對於露天栽培西洋南瓜果實品質及產量之評估</a>,\n",
       " <a class=\"title\" href=\"knowledgebase.php?func=&amp;type=0&amp;id=400550\">農民學院臺中區農業訓練中心學員從農風險評估之研究</a>,\n",
       " <a class=\"title\" href=\"knowledgebase.php?func=&amp;type=0&amp;id=400549\">葉薹兩用芥藍品種‘台中2號’育成</a>,\n",
       " <a class=\"title\" href=\"knowledgebase.php?func=&amp;type=0&amp;id=400548\">以層級分析法建構遴選農村社區推動園藝療育指標</a>,\n",
       " <a class=\"title\" href=\"knowledgebase.php?func=&amp;type=0&amp;id=400547\">行政院農業委員會臺中區農業改良場研究彙報(第142 期)</a>,\n",
       " <a class=\"title\" href=\"knowledgebase.php?func=&amp;type=0&amp;id=400546\">桃園區農情月刊第 150 期-----------本場新埔工作站辦公大樓落成啟用典禮</a>,\n",
       " <a class=\"title\" href=\"knowledgebase.php?func=&amp;type=0&amp;id=400545\">桃園區農情月刊第 150 期-----------行政院農業委員會農業記者團參訪桃園縣新屋鄉花卉產銷班-2</a>,\n",
       " <a class=\"title\" href=\"knowledgebase.php?func=&amp;type=0&amp;id=400544\">桃園區農情月刊第 150 期-----------行政院農業委員會農業記者團參訪桃園縣新屋鄉花卉產銷班-1</a>,\n",
       " <a class=\"title\" href=\"knowledgebase.php?func=&amp;type=0&amp;id=400543\">桃園區農情月刊第 150 期-----------「100年度績優吉園圃產銷班及輔導單位」表揚活動及本場轄區獲獎快報-2</a>,\n",
       " <a class=\"title\" href=\"knowledgebase.php?func=&amp;type=0&amp;id=400542\">桃園區農情月刊第 150 期-----------「100年度績優吉園圃產銷班及輔導單位」表揚活動及本場轄區獲獎快報-1</a>,\n",
       " <a class=\"title\" href=\"knowledgebase.php?func=&amp;type=0&amp;id=400541\">桃園區農情月刊第 150 期-----------保障國人吃的安全，農委會積極推動作物健康管理</a>,\n",
       " <a class=\"title\" href=\"knowledgebase.php?func=&amp;type=0&amp;id=400532\">收購荔枝椿象卵片效果顯著 全民參與防治動起來</a>,\n",
       " <a class=\"title\" href=\"knowledgebase.php?func=&amp;type=0&amp;id=400527\">108年本場辦理食農教育宣導活動成果</a>,\n",
       " <a class=\"title\" href=\"knowledgebase.php?func=&amp;type=0&amp;id=400526\">智慧茶產業訓練班圓滿落幕</a>,\n",
       " <a class=\"title\" href=\"knowledgebase.php?func=&amp;type=0&amp;id=400525\">本場辦理「照顧農民─農民福利與年金制度座談會」協助解決農友問題</a>,\n",
       " <a class=\"title\" href=\"knowledgebase.php?func=&amp;type=0&amp;id=400524\">108年10月公告增修藥劑使用方法於山茶科作物簡訊</a>,\n",
       " <a class=\"title\" href=\"knowledgebase.php?func=&amp;type=0&amp;id=400523\">推動臺茶國際行銷新動力 本場首開茶業國際專班</a>]"
      ]
     },
     "execution_count": 10,
     "metadata": {},
     "output_type": "execute_result"
    }
   ],
   "source": [
    "titleList"
   ]
  },
  {
   "cell_type": "code",
   "execution_count": null,
   "metadata": {},
   "outputs": [],
   "source": []
  }
 ],
 "metadata": {
  "kernelspec": {
   "display_name": "Python 3",
   "language": "python",
   "name": "python3"
  },
  "language_info": {
   "codemirror_mode": {
    "name": "ipython",
    "version": 3
   },
   "file_extension": ".py",
   "mimetype": "text/x-python",
   "name": "python",
   "nbconvert_exporter": "python",
   "pygments_lexer": "ipython3",
   "version": "3.6.10"
  }
 },
 "nbformat": 4,
 "nbformat_minor": 4
}
