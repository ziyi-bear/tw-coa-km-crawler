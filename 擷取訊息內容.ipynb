{
 "cells": [
  {
   "cell_type": "code",
   "execution_count": 1,
   "metadata": {},
   "outputs": [],
   "source": [
    "# 引入函式庫\n",
    "import requests\n",
    "from bs4 import BeautifulSoup\n",
    "import json"
   ]
  },
  {
   "cell_type": "code",
   "execution_count": 2,
   "metadata": {},
   "outputs": [],
   "source": [
    "# 轉換URL並取得URL參數\n",
    "import urllib.parse as urlparse\n",
    "from urllib.parse import parse_qs"
   ]
  },
  {
   "cell_type": "code",
   "execution_count": 3,
   "metadata": {},
   "outputs": [],
   "source": [
    "t_url = 'https://kmweb.coa.gov.tw/theme_data.php?theme=pedia&sub_theme=km&id=3676'"
   ]
  },
  {
   "cell_type": "code",
   "execution_count": 4,
   "metadata": {},
   "outputs": [],
   "source": [
    "response = requests.get(t_url)\n",
    "tsoup = BeautifulSoup(response.content, 'lxml')"
   ]
  },
  {
   "cell_type": "code",
   "execution_count": 5,
   "metadata": {},
   "outputs": [
    {
     "data": {
      "text/plain": [
       "[<div class=\"memberfbmsg\">熱處理指的是「園產品在貯藏前，先置於高溫下短時間的處理技術」。<br/>最常使用於果實類的園產品，其目的在於防止果實腐敗、延緩後熟、殺死害蟲或減輕低溫傷害等。果實於貯運期間腐爛是採收後重要的損耗原因之一，腐爛大多由真菌所引起，早於1922年即發現用熱水處理柑橘可防止柑橘由炭疽病引起的腐爛，從而開始了熱處理的研究。然而，化學防治藥劑開發出來後，效果比熱處理好，方便操作、成本又低，因此長期以來控制果實採後病害的主要措施是使用化學殺菌劑，但是長期大量使用殺菌劑會嚴重汙染環境，直接或間接地危害人體健康。此外，密集使用單一種類之殺菌劑會使病原菌產生抗藥性而喪失藥效，造成日後使用化學藥劑防治病害愈趨困難。近年來，人們對於農藥殘留問題的關注日益增加，因此熱處理技術才又被重新重視，並且被廣泛的研究與應用。<br/><br/><br/>參考資料：https://kmweb.coa.gov.tw/knowledgebase.php?func=2&amp;type=2&amp;id=286598</div>,\n",
       " <div class=\"memberfbmsg\">熱處理脫毒是根據病毒與植物細胞對高溫的忍耐程度不同，將苗木、接穗或種子放在適當的溫度下處理一段時間，將植物組織中病毒部分地或完全地鈍化而控制其的活動，但很少傷害甚至不傷害植物組織，從而讓植物細胞繼續保持活力加快生長，使生長點附近不帶病毒，從而達到脫毒的目的。\n",
       " <br/> <br/> 熱處理法是利用病毒和寄主植物對高溫的忍耐性的差異，鈍化病毒，其過程很復雜，與很多因素有關。其中，病毒對溫度敏感性、寄主植物的保衛反應均有可能起一定的作用。\n",
       " <br/> <br/> 熱處理法中，最主要的影響因素是溫度和時間。熱處理可通過熱水浸泡或濕熱空氣進行。熱水浸泡對休眠芽效果較好，濕熱空氣對活躍生長的莖尖效果較好，既能消除病毒又能使寄主植物有較高的存活機會。熱空氣處理比較容易進行，把旺盛生長的植物移入到1個熱療室中，在35~40℃下處理一段時間即可，處理時間的長短，可由幾分鐘到數月不等。熱處理的方法有恆溫處理和變溫處理，處理的材料可以是植株，也可以是接穗。\n",
       " <br/> <br/> 有些植物對高溫敏感，可用冷處理代替熱處理結合莖尖培養來脫毒。如三葉草，將植株放在10℃中經過一段時間培養，再取莖尖脫毒培養。同樣方法也有人用於消除馬鈴薯梭狀塊莖類病毒。\n",
       " <br/>(網路摘取提供參考)</div>,\n",
       " <div class=\"memberfbmsg\">熱處理是指園產品在貯藏前，先置於高溫下短時間的處理技術，最常使用於果實類的園產品，其目的在於防止果實腐敗、延緩後熟、殺死害蟲或減輕低溫傷害等。果實於貯運期間腐爛是採收後重要的損耗原因之一，腐爛大多由真菌所引起，早於1922年即發現用熱水處理柑橘可防止柑橘由炭疽病引起的腐爛，從而開始了熱處理的研究。</div>]"
      ]
     },
     "execution_count": 5,
     "metadata": {},
     "output_type": "execute_result"
    }
   ],
   "source": [
    "tmatch = tsoup.find_all(\"div\", class_=\"memberfbmsg\")\n",
    "tmatch"
   ]
  },
  {
   "cell_type": "code",
   "execution_count": 6,
   "metadata": {},
   "outputs": [
    {
     "data": {
      "text/plain": [
       "3"
      ]
     },
     "execution_count": 6,
     "metadata": {},
     "output_type": "execute_result"
    }
   ],
   "source": [
    "len(tmatch)"
   ]
  },
  {
   "cell_type": "code",
   "execution_count": 24,
   "metadata": {},
   "outputs": [
    {
     "name": "stdout",
     "output_type": "stream",
     "text": [
      "['熱處理指的是「園產品在貯藏前，先置於高溫下短時間的處理技術」。最常使用於果實類的園產品，其目的在於防止果實腐敗、延緩後熟、殺死害蟲或減輕低溫傷害等。果實於貯運期間腐爛是採收後重要的損耗原因之一，腐爛大多由真菌所引起，早於1922年即發現用熱水處理柑橘可防止柑橘由炭疽病引起的腐爛，從而開始了熱處理的研究。然而，化學防治藥劑開發出來後，效果比熱處理好，方便操作、成本又低，因此長期以來控制果實採後病害的主要措施是使用化學殺菌劑，但是長期大量使用殺菌劑會嚴重汙染環境，直接或間接地危害人體健康。此外，密集使用單一種類之殺菌劑會使病原菌產生抗藥性而喪失藥效，造成日後使用化學藥劑防治病害愈趨困難。近年來，人們對於農藥殘留問題的關注日益增加，因此熱處理技術才又被重新重視，並且被廣泛的研究與應用。參考資料：https://kmweb.coa.gov.tw/knowledgebase.php?func=2&type=2&id=286598', '熱處理脫毒是根據病毒與植物細胞對高溫的忍耐程度不同，將苗木、接穗或種子放在適當的溫度下處理一段時間，將植物組織中病毒部分地或完全地鈍化而控制其的活動，但很少傷害甚至不傷害植物組織，從而讓植物細胞繼續保持活力加快生長，使生長點附近不帶病毒，從而達到脫毒的目的。\\r  熱處理法是利用病毒和寄主植物對高溫的忍耐性的差異，鈍化病毒，其過程很復雜，與很多因素有關。其中，病毒對溫度敏感性、寄主植物的保衛反應均有可能起一定的作用。\\r  熱處理法中，最主要的影響因素是溫度和時間。熱處理可通過熱水浸泡或濕熱空氣進行。熱水浸泡對休眠芽效果較好，濕熱空氣對活躍生長的莖尖效果較好，既能消除病毒又能使寄主植物有較高的存活機會。熱空氣處理比較容易進行，把旺盛生長的植物移入到1個熱療室中，在35~40℃下處理一段時間即可，處理時間的長短，可由幾分鐘到數月不等。熱處理的方法有恆溫處理和變溫處理，處理的材料可以是植株，也可以是接穗。\\r  有些植物對高溫敏感，可用冷處理代替熱處理結合莖尖培養來脫毒。如三葉草，將植株放在10℃中經過一段時間培養，再取莖尖脫毒培養。同樣方法也有人用於消除馬鈴薯梭狀塊莖類病毒。\\r(網路摘取提供參考)', '熱處理是指園產品在貯藏前，先置於高溫下短時間的處理技術，最常使用於果實類的園產品，其目的在於防止果實腐敗、延緩後熟、殺死害蟲或減輕低溫傷害等。果實於貯運期間腐爛是採收後重要的損耗原因之一，腐爛大多由真菌所引起，早於1922年即發現用熱水處理柑橘可防止柑橘由炭疽病引起的腐爛，從而開始了熱處理的研究。']\n"
     ]
    }
   ],
   "source": [
    "tcontent = list()\n",
    "for i in range(len(tmatch)):\n",
    "    tcontent.append(tmatch[i].get_text())\n",
    "print(tcontent)"
   ]
  },
  {
   "cell_type": "code",
   "execution_count": 8,
   "metadata": {},
   "outputs": [
    {
     "name": "stdout",
     "output_type": "stream",
     "text": [
      "<div class=\"memberfbmsg\">熱處理指的是「園產品在貯藏前，先置於高溫下短時間的處理技術」。<br/>最常使用於果實類的園產品，其目的在於防止果實腐敗、延緩後熟、殺死害蟲或減輕低溫傷害等。果實於貯運期間腐爛是採收後重要的損耗原因之一，腐爛大多由真菌所引起，早於1922年即發現用熱水處理柑橘可防止柑橘由炭疽病引起的腐爛，從而開始了熱處理的研究。然而，化學防治藥劑開發出來後，效果比熱處理好，方便操作、成本又低，因此長期以來控制果實採後病害的主要措施是使用化學殺菌劑，但是長期大量使用殺菌劑會嚴重汙染環境，直接或間接地危害人體健康。此外，密集使用單一種類之殺菌劑會使病原菌產生抗藥性而喪失藥效，造成日後使用化學藥劑防治病害愈趨困難。近年來，人們對於農藥殘留問題的關注日益增加，因此熱處理技術才又被重新重視，並且被廣泛的研究與應用。<br/><br/><br/>參考資料：https://kmweb.coa.gov.tw/knowledgebase.php?func=2&amp;type=2&amp;id=286598</div>\n",
      "<br/>(網路摘取提供參考)</div>，可用冷處理代替熱處理結合莖尖培養來脫毒。如三葉草，將植株放在10℃中經過一段時間培養，再取莖尖脫毒培養。同樣方法也有人用於消除馬鈴薯梭狀塊莖類病毒。高的存活機會。熱空氣處理比較容易進行，把旺盛生長的植物移入到1個熱療室中，在35~40℃下處理一段時間即可，處理時間的長短，可由幾分鐘到數月不等。熱處理的方法有恆溫處理和變溫處理，處理的材料可以是植株，也可以是接穗。\n",
      "<div class=\"memberfbmsg\">熱處理是指園產品在貯藏前，先置於高溫下短時間的處理技術，最常使用於果實類的園產品，其目的在於防止果實腐敗、延緩後熟、殺死害蟲或減輕低溫傷害等。果實於貯運期間腐爛是採收後重要的損耗原因之一，腐爛大多由真菌所引起，早於1922年即發現用熱水處理柑橘可防止柑橘由炭疽病引起的腐爛，從而開始了熱處理的研究。</div>\n"
     ]
    },
    {
     "data": {
      "text/plain": [
       "[None, None, None]"
      ]
     },
     "execution_count": 8,
     "metadata": {},
     "output_type": "execute_result"
    }
   ],
   "source": [
    "[print(i) for i in tmatch]"
   ]
  },
  {
   "cell_type": "code",
   "execution_count": 13,
   "metadata": {},
   "outputs": [],
   "source": [
    "c = tmatch[0]"
   ]
  },
  {
   "cell_type": "code",
   "execution_count": 16,
   "metadata": {},
   "outputs": [
    {
     "data": {
      "text/plain": [
       "'熱處理指的是「園產品在貯藏前，先置於高溫下短時間的處理技術」。最常使用於果實類的園產品，其目的在於防止果實腐敗、延緩後熟、殺死害蟲或減輕低溫傷害等。果實於貯運期間腐爛是採收後重要的損耗原因之一，腐爛大多由真菌所引起，早於1922年即發現用熱水處理柑橘可防止柑橘由炭疽病引起的腐爛，從而開始了熱處理的研究。然而，化學防治藥劑開發出來後，效果比熱處理好，方便操作、成本又低，因此長期以來控制果實採後病害的主要措施是使用化學殺菌劑，但是長期大量使用殺菌劑會嚴重汙染環境，直接或間接地危害人體健康。此外，密集使用單一種類之殺菌劑會使病原菌產生抗藥性而喪失藥效，造成日後使用化學藥劑防治病害愈趨困難。近年來，人們對於農藥殘留問題的關注日益增加，因此熱處理技術才又被重新重視，並且被廣泛的研究與應用。參考資料：https://kmweb.coa.gov.tw/knowledgebase.php?func=2&type=2&id=286598'"
      ]
     },
     "execution_count": 16,
     "metadata": {},
     "output_type": "execute_result"
    }
   ],
   "source": [
    "c.get_text()"
   ]
  },
  {
   "cell_type": "code",
   "execution_count": 17,
   "metadata": {},
   "outputs": [
    {
     "ename": "AttributeError",
     "evalue": "ResultSet object has no attribute 'get_text'. You're probably treating a list of elements like a single element. Did you call find_all() when you meant to call find()?",
     "output_type": "error",
     "traceback": [
      "\u001b[0;31m---------------------------------------------------------------------------\u001b[0m",
      "\u001b[0;31mAttributeError\u001b[0m                            Traceback (most recent call last)",
      "\u001b[0;32m<ipython-input-17-6336b1f79297>\u001b[0m in \u001b[0;36m<module>\u001b[0;34m\u001b[0m\n\u001b[0;32m----> 1\u001b[0;31m \u001b[0mtmatch\u001b[0m\u001b[0;34m.\u001b[0m\u001b[0mget_text\u001b[0m\u001b[0;34m(\u001b[0m\u001b[0;34m)\u001b[0m\u001b[0;34m\u001b[0m\u001b[0;34m\u001b[0m\u001b[0m\n\u001b[0m",
      "\u001b[0;32m/opt/conda/lib/python3.6/site-packages/bs4/element.py\u001b[0m in \u001b[0;36m__getattr__\u001b[0;34m(self, key)\u001b[0m\n\u001b[1;32m   2159\u001b[0m         \u001b[0;34m\"\"\"Raise a helpful exception to explain a common code fix.\"\"\"\u001b[0m\u001b[0;34m\u001b[0m\u001b[0;34m\u001b[0m\u001b[0m\n\u001b[1;32m   2160\u001b[0m         raise AttributeError(\n\u001b[0;32m-> 2161\u001b[0;31m             \u001b[0;34m\"ResultSet object has no attribute '%s'. You're probably treating a list of elements like a single element. Did you call find_all() when you meant to call find()?\"\u001b[0m \u001b[0;34m%\u001b[0m \u001b[0mkey\u001b[0m\u001b[0;34m\u001b[0m\u001b[0;34m\u001b[0m\u001b[0m\n\u001b[0m\u001b[1;32m   2162\u001b[0m         )\n",
      "\u001b[0;31mAttributeError\u001b[0m: ResultSet object has no attribute 'get_text'. You're probably treating a list of elements like a single element. Did you call find_all() when you meant to call find()?"
     ]
    }
   ],
   "source": [
    "tmatch.get_text()"
   ]
  },
  {
   "cell_type": "code",
   "execution_count": null,
   "metadata": {},
   "outputs": [],
   "source": []
  }
 ],
 "metadata": {
  "kernelspec": {
   "display_name": "Python 3",
   "language": "python",
   "name": "python3"
  },
  "language_info": {
   "codemirror_mode": {
    "name": "ipython",
    "version": 3
   },
   "file_extension": ".py",
   "mimetype": "text/x-python",
   "name": "python",
   "nbconvert_exporter": "python",
   "pygments_lexer": "ipython3",
   "version": "3.6.10"
  }
 },
 "nbformat": 4,
 "nbformat_minor": 4
}
